{
 "cells": [
  {
   "cell_type": "markdown",
   "metadata": {},
   "source": [
    "# Algorithme génétique pour le problème du max-one\n",
    "\n",
    "*nicolas.bredeche(at)upmc.fr (autre contributeur: Arthur Pajot, Paul Ecoffet)*\n",
    "\n",
    "**UE 3i015**: *Introduction à l'Intelligence Artificielle et la Recherche Opérationelle*, L3, Sorbonne Univ.\n",
    "\n",
    "Mise à jour: \n",
    "* 2017-03-20 - première version\n",
    "* 2018-03-29 - ajout d'une représentation graphique, découpage en cellule\n",
    "\n",
    "<!--`print()`-->"
   ]
  },
  {
   "cell_type": "code",
   "execution_count": 6,
   "metadata": {},
   "outputs": [
    {
     "name": "stdout",
     "output_type": "stream",
     "text": [
      "The Cython extension is already loaded. To reload it, use:\n",
      "  %reload_ext Cython\n"
     ]
    }
   ],
   "source": [
    "#!/usr/bin/env python\n",
    "\n",
    "%matplotlib inline\n",
    "%load_ext Cython\n",
    "\n",
    "import numpy as np\n",
    "import matplotlib as mpl\n",
    "import matplotlib.pyplot as pl\n",
    "\n",
    "import operator\n",
    "import copy\n",
    "import datetime \n",
    "\n",
    "from random import random, randint, sample\n",
    "\n",
    "verbose = False\n"
   ]
  },
  {
   "cell_type": "code",
   "execution_count": 7,
   "metadata": {
    "collapsed": true
   },
   "outputs": [],
   "source": [
    "# Graph-related functions\n",
    "\n",
    "def plot(x,y,xMin,xMax,yMin,yMax):\n",
    "    colors = \"red\" #np.random.rand(len(x))\n",
    "    area = np.pi * (5 * np.ones(1))**2\n",
    "    pl.xlim(xMin, xMax)\n",
    "    pl.ylim(yMin, yMax)\n",
    "    pl.scatter( np.asarray(x), np.asarray(y), s=area, c=colors, alpha=0.5)\n",
    "    pl.show()\n",
    "    \n",
    "def plotIndividuals(datapop,xMin=0,xMax=1,yMin=0,yMax=1):\n",
    "    xCoord = []\n",
    "    yCoord = []\n",
    "    \n",
    "    for e in datapop:\n",
    "        xCoord.append(e[0])\n",
    "        yCoord.append(e[1])\n",
    "    \n",
    "    plot(xCoord,yCoord,xMin,xMax,yMin,yMax)"
   ]
  },
  {
   "cell_type": "code",
   "execution_count": 3,
   "metadata": {
    "collapsed": true,
    "scrolled": false
   },
   "outputs": [],
   "source": [
    "# Evolution-related functions\n",
    "\n",
    "def evalue(individu):\n",
    "    fitness = 0\n",
    "    for e in individu:\n",
    "        if e == 1:\n",
    "            fitness = fitness + 1\n",
    "    return fitness\n",
    "\n",
    "def mute(individu,pMute):\n",
    "    nouvelIndividu = []\n",
    "    for e in individu:\n",
    "        if random() < pMute:\n",
    "            nouvelIndividu.append( (e + 1) % 2 )\n",
    "        else:\n",
    "            nouvelIndividu.append( e )\n",
    "    return nouvelIndividu\n"
   ]
  },
  {
   "cell_type": "code",
   "execution_count": 4,
   "metadata": {
    "collapsed": true
   },
   "outputs": [],
   "source": [
    "#\n",
    "# MAIN\n",
    "#\n",
    "\n",
    "def main():\n",
    "    # stats\n",
    "\n",
    "    if verbose == True:\n",
    "        print \"budget évaluation   :\", evaluations\n",
    "        print \"nombre de paramètres:\", tailleInd\n",
    "\n",
    "        print \"\"\n",
    "        print \"taille population: \", taillePop\n",
    "        print \"taille tournoi: \", tailleTournoi\n",
    "        print \"P_mutation:\", Pmutation\n",
    "        print \"\"\n",
    "\n",
    "    # initialisation des individus\n",
    "\n",
    "    population = []\n",
    "\n",
    "    for i in range(taillePop):\n",
    "        individu = []\n",
    "        for j in range(tailleInd):\n",
    "            individu.append( randint(0,1) )\n",
    "        population.append([individu,0]) # liste de tuple: N*(genome[],fitness)\n",
    "\n",
    "\n",
    "    # boucle principale \n",
    "\n",
    "    it = 0\n",
    "    stop = False # en cas de succès\n",
    "    nbGen = 0\n",
    "\n",
    "    data = []\n",
    "\n",
    "    while it + taillePop <= evaluations and stop == False:\n",
    "\n",
    "        if verbose == True:\n",
    "            print \"# Generation\", nbGen,\":\",\n",
    "\n",
    "        # évalue les individus, et mémorise le meilleur. Selection: (mu=1+4)-ES\n",
    "\n",
    "        for individu in population:\n",
    "            individu[1] = evalue(individu[0])\n",
    "\n",
    "        # affiche la population\n",
    "\n",
    "        meilleureFitness = 0\n",
    "        meilleurIndividu = []\n",
    "        for individu in population:\n",
    "            #print individu[0],\"- fitness: \",individu[1]\n",
    "            if individu[1] > meilleureFitness:\n",
    "                meilleureFitness = individu[1]\n",
    "                meilleurIndividu = individu[:]\n",
    "        if verbose == True:\n",
    "            print ''.join(str(i) for i in meilleurIndividu[0]),\"- fitness: \",meilleureFitness,\"/\",tailleInd\n",
    "\n",
    "        data.append([it+taillePop,meilleureFitness])\n",
    "\n",
    "\n",
    "\n",
    "        if meilleureFitness == tailleInd:\n",
    "            if verbose == True:\n",
    "                print \"Succès!\"\n",
    "            stop = True\n",
    "            break\n",
    "\n",
    "        # construit une nouvelle population\n",
    "\n",
    "        nouvellePopulation = []\n",
    "\n",
    "        for i in range(taillePop):\n",
    "\n",
    "            # sélectionne K individus (au hasard) pour le tournoi\n",
    "            tournoi = sample(list(range(taillePop)),tailleTournoi) # renvoi les index de K individus parmis N\n",
    "\n",
    "            # sélectionne le meilleur parmis les K individus (classe par ordre croissant, renvoi le dernier élément selon le fitness)\n",
    "            parent = population[ sorted(tournoi, key=lambda x:population[x][1])[-1] ][0]\n",
    "\n",
    "            # crée un nouvel individu par mutation de l'individu parent, et ajoute à la nouvelle population\n",
    "            nouvelIndividu = mute(parent,Pmutation)\n",
    "            nouvellePopulation.append([nouvelIndividu,0])\n",
    "\n",
    "        # passe a la génération suivante\n",
    "\n",
    "        population = nouvellePopulation[:]\n",
    "        it = it + taillePop\n",
    "        nbGen += 1\n",
    "\n",
    "    # affichage\n",
    "\n",
    "    plotIndividuals(data,0,evaluations,0,tailleInd)\n",
    "    print \"Meilleur solution:\", meilleurIndividu\n"
   ]
  },
  {
   "cell_type": "markdown",
   "metadata": {},
   "source": [
    "# Problème du max-one\n",
    "\n",
    "**Données du problème**\n",
    "* représentation: une solution candidate définie comme une suite finie de 0 et de 1 (ici: 30 valeurs)\n",
    "* objectif: la fonction fitness calcule une distance de Hamming entre la solution candidate et la solution optimale (ici: l'objectif est artificiellement fixé comme une suite de 1)\n",
    "* algorithme: algorithme génétique avec opérateur de mutation, sélection par tournoi\n",
    "* le *nombre d'évaluation* et la *taille des individus* sont fixés. Ce sont des contraintes du problème.\n",
    "\n",
    "**Degrés de liberté**\n",
    "* les valeurs de la *taille de la population*, la *taille du tournoi*, et la *probabilité de mutation par gène* sont à choisir\n",
    "\n",
    "**Exercice**\n",
    "* modifiez et observez l'influence des valeurs de *taillePop*, *tailleTournoi* et *Pmutation* sur la vitesse de convergence. Attention, il s'agit d'une algorithme stochastique, donc deux exécutions peuvent mener à des résultats différents."
   ]
  },
  {
   "cell_type": "code",
   "execution_count": 15,
   "metadata": {},
   "outputs": [
    {
     "name": "stdout",
     "output_type": "stream",
     "text": [
      "\n",
      "Problème MAX-ONE\n",
      "\n"
     ]
    },
    {
     "data": {
      "image/png": "[encoded data removed]",
      "text/plain": [
       "<matplotlib.figure.Figure at 0x10ea2fc90>"
      ]
     },
     "metadata": {},
     "output_type": "display_data"
    },
    {
     "name": "stdout",
     "output_type": "stream",
     "text": [
      "Meilleur solution: [[1, 1, 1, 1, 1, 1, 1, 1, 1, 1, 1, 1, 1, 1, 1, 1, 1, 1, 1, 1, 1, 1, 1, 1, 1, 1, 1, 1, 1, 1], 30]\n"
     ]
    }
   ],
   "source": [
    "print \"\\nProblème MAX-ONE\\n\"\n",
    "\n",
    "# contraintes du problème (budget et représentation)\n",
    "\n",
    "evaluations = 300\n",
    "tailleInd = 30\n",
    "\n",
    "# paramètres à régler (modifiable)\n",
    "\n",
    "taillePop = 10\n",
    "tailleTournoi = 8\n",
    "Pmutation = 1.0/tailleInd\n",
    "\n",
    "main()"
   ]
  },
  {
   "cell_type": "code",
   "execution_count": null,
   "metadata": {
    "collapsed": true
   },
   "outputs": [],
   "source": []
  }
 ],
 "metadata": {
  "kernelspec": {
   "display_name": "Python 3",
   "language": "python",
   "name": "python3"
  },
  "language_info": {
   "codemirror_mode": {
    "name": "ipython",
    "version": 3
   },
   "file_extension": ".py",
   "mimetype": "text/x-python",
   "name": "python",
   "nbconvert_exporter": "python",
   "pygments_lexer": "ipython3",
   "version": "3.7.2"
  }
 },
 "nbformat": 4,
 "nbformat_minor": 1
}
